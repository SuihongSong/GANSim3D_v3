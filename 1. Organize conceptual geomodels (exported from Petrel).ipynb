{
 "cells": [
  {
   "cell_type": "code",
   "execution_count": 1,
   "metadata": {
    "collapsed": true
   },
   "outputs": [],
   "source": [
    "%matplotlib inline\n",
    "import matplotlib.pyplot as plt\n",
    "import numpy as np\n",
    "import os"
   ]
  },
  {
   "cell_type": "markdown",
   "metadata": {},
   "source": [
    "##### File path of conceptual geomodel realizations."
   ]
  },
  {
   "cell_type": "code",
   "execution_count": 2,
   "metadata": {
    "collapsed": true
   },
   "outputs": [],
   "source": [
    "# These conceptual models are simulated with object-based \n",
    "# or process-mimicking method in Petrel platform. The conceptual geomodels are exported from Petrel directly \n",
    "# as model properties (with Gslib format). The exported file contains a number of conceptual geomodels. \n",
    "# In our case:  code 3 is for background mud faceis, 0 for lobe facies, and 4 for channel facies. \n",
    "\n",
    "concptpath = '/scratch/users/suihong/GANSimData/Petrel_exported_concpt' \n"
   ]
  },
  {
   "cell_type": "markdown",
   "metadata": {},
   "source": [
    "##### Remove header information, convert into matrix, and convert from float into int data format."
   ]
  },
  {
   "cell_type": "code",
   "execution_count": 28,
   "metadata": {
    "scrolled": true
   },
   "outputs": [
    {
     "name": "stdout",
     "output_type": "stream",
     "text": [
      "int8\n",
      "(4, 400, 400, 50)\n"
     ]
    }
   ],
   "source": [
    "rlz_no     = 4    # The number of exported conceptual geomodel realizations\n",
    "con_x_size = 400  # Cell number along x direction in the conceptual geomodels\n",
    "con_y_size = 400  # Cell number along y direction in the conceptual geomodels\n",
    "con_z_size = 50   # Cell number along z direction in the conceptual geomodels\n",
    "\n",
    "concpts = np.zeros((con_x_size * con_y_size * con_z_size, rlz_no), np.int8)\n",
    "with open (concptpath) as fl:\n",
    "    i = -1\n",
    "    for line in fl:\n",
    "        eles = line.strip().split(' ')  \n",
    "        if len(eles)>=4:            \n",
    "            i = i + 1  \n",
    "            concpts[i] = np.array(eles, dtype=np.float32).astype(np.int8)[3:]\n",
    "\n",
    "concpts = concpts.reshape(con_z_size, con_x_size, con_y_size, rlz_no)[::-1,::-1].transpose(3, 1, 2, 0)\n",
    "concpts = np.where(concpts == 0, 5, concpts)-3 # exchange code of levee and channels, may remove according to user's case\n",
    "\n",
    "print(concpts.dtype)\n",
    "print(concpts.shape)"
   ]
  },
  {
   "cell_type": "code",
   "execution_count": 30,
   "metadata": {
    "scrolled": true
   },
   "outputs": [
    {
     "data": {
      "text/plain": [
       "Text(0.5, 1.0, 'Vertical Section')"
      ]
     },
     "execution_count": 30,
     "metadata": {},
     "output_type": "execute_result"
    },
    {
     "data": {
      "image/png": "[encoded data removed]",
      "text/plain": [
       "<Figure size 720x360 with 2 Axes>"
      ]
     },
     "metadata": {},
     "output_type": "display_data"
    }
   ],
   "source": [
    "fig, ax = plt.subplots(1, 2)\n",
    "fig.set_size_inches(10, 5, forward=True)\n",
    "ax[0].imshow(concpts[2, :, :, 20], cmap='gray')\n",
    "ax[0].set_title('Horizontal Section')\n",
    "ax[1].imshow(concpts[0, -200, :, :].transpose(1, 0), cmap='gray')\n",
    "ax[1].set_title('Vertical Section')"
   ]
  },
  {
   "cell_type": "markdown",
   "metadata": {},
   "source": [
    "##### Save organized conceptual geomodels for further use"
   ]
  },
  {
   "cell_type": "code",
   "execution_count": 32,
   "metadata": {
    "collapsed": true
   },
   "outputs": [],
   "source": [
    "concpts_int8_save = concpts.reshape(rlz_no, -1).transpose(1,0)  # shape of [-1, 400]\n",
    "\n",
    "concpts_all_int8_fname = '/scratch/users/suihong/GANSimData//concpts_int8'\n",
    "np.save(concpts_all_int8_fname, concpts_int8_save)   # , fmt='%i '*400  , newline='\\n'"
   ]
  },
  {
   "cell_type": "markdown",
   "metadata": {},
   "source": [
    "##### Import the saved file for test"
   ]
  },
  {
   "cell_type": "code",
   "execution_count": 35,
   "metadata": {
    "collapsed": true
   },
   "outputs": [],
   "source": [
    "rlz_no = 4\n",
    "con_x_size = 400\n",
    "con_y_size = 400\n",
    "con_z_size = 50"
   ]
  },
  {
   "cell_type": "code",
   "execution_count": 36,
   "metadata": {},
   "outputs": [
    {
     "name": "stdout",
     "output_type": "stream",
     "text": [
      "(8000000, 4)\n",
      "(4, 400, 400, 50)\n"
     ]
    }
   ],
   "source": [
    "concpts_int8_load = np.load('/scratch/users/suihong/GANSimData//concpts_int8.npy')\n",
    "print(concpts_int8_load.shape)\n",
    "\n",
    "concpts_int8_load_4D = concpts_int8_load.transpose(1,0).reshape(rlz_no, con_x_size, con_y_size, con_z_size)\n",
    "print(concpts_int8_load_4D.shape)"
   ]
  },
  {
   "cell_type": "code",
   "execution_count": 37,
   "metadata": {},
   "outputs": [
    {
     "data": {
      "text/plain": [
       "Text(0.5, 1.0, 'Vertical Section')"
      ]
     },
     "execution_count": 37,
     "metadata": {},
     "output_type": "execute_result"
    },
    {
     "data": {
      "image/png": "[encoded data removed]",
      "text/plain": [
       "<Figure size 720x360 with 2 Axes>"
      ]
     },
     "metadata": {},
     "output_type": "display_data"
    }
   ],
   "source": [
    "fig, ax = plt.subplots(1, 2)\n",
    "fig.set_size_inches(10, 5, forward=True)\n",
    "ax[0].imshow(concpts_int8_load_4D[2, :, :, 20], cmap='gray')\n",
    "ax[0].set_title('Horizontal Section')\n",
    "ax[1].imshow(concpts_int8_load_4D[0, -200, :, :].transpose(1, 0), cmap='gray')\n",
    "ax[1].set_title('Vertical Section')"
   ]
  },
  {
   "cell_type": "code",
   "execution_count": null,
   "metadata": {
    "collapsed": true
   },
   "outputs": [],
   "source": []
  }
 ],
 "metadata": {
  "kernelspec": {
   "display_name": "Python 3",
   "language": "python",
   "name": "python3"
  },
  "language_info": {
   "codemirror_mode": {
    "name": "ipython",
    "version": 3
   },
   "file_extension": ".py",
   "mimetype": "text/x-python",
   "name": "python",
   "nbconvert_exporter": "python",
   "pygments_lexer": "ipython3",
   "version": "3.6.1"
  }
 },
 "nbformat": 4,
 "nbformat_minor": 2
}
