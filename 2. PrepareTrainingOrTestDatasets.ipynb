{
 "cells": [
  {
   "cell_type": "code",
   "execution_count": 1,
   "metadata": {
    "collapsed": true
   },
   "outputs": [],
   "source": [
    "%matplotlib inline\n",
    "import matplotlib.pyplot as plt\n",
    "import numpy as np\n",
    "import os"
   ]
  },
  {
   "cell_type": "markdown",
   "metadata": {},
   "source": [
    "### 1. Load organized conceptual geomodels"
   ]
  },
  {
   "cell_type": "code",
   "execution_count": 3,
   "metadata": {},
   "outputs": [
    {
     "name": "stdout",
     "output_type": "stream",
     "text": [
      "(4, 400, 400, 50)\n",
      "int8\n"
     ]
    }
   ],
   "source": [
    "# Loading all conceptual geomodels contained in the int8 format file\n",
    "# In this case:  code 0 is for background mud faceis, 1 for channel facies, and 2 for lobe facies\n",
    "\n",
    "rlz_no     = 4    # The number of exported conceptual geomodel realizations\n",
    "con_x_size = 400  # Cell number along x direction in the conceptual geomodels\n",
    "con_y_size = 400  # Cell number along y direction in the conceptual geomodels\n",
    "con_z_size = 50   # Cell number along z direction in the conceptual geomodels\n",
    "\n",
    "concept_path = '/scratch/users/suihong/GANSimData//concpts_int8.npy'\n",
    "concpts = np.load(concept_path)\n",
    "concpts = concpts.transpose(1,0).reshape(rlz_no, con_x_size, con_y_size, con_z_size)\n",
    "print(concpts.shape)\n",
    "print(concpts.dtype)"
   ]
  },
  {
   "cell_type": "markdown",
   "metadata": {},
   "source": [
    "### 2. Augment conceptual geomodels by flipping along east-west direction"
   ]
  },
  {
   "cell_type": "code",
   "execution_count": 8,
   "metadata": {},
   "outputs": [
    {
     "name": "stdout",
     "output_type": "stream",
     "text": [
      "(8, 400, 400, 50)\n"
     ]
    }
   ],
   "source": [
    "\n",
    "concpts_all = np.concatenate((concpts, concpts[:,:,::-1,:]))\n",
    "print(concpts_all.shape)"
   ]
  },
  {
   "cell_type": "code",
   "execution_count": 52,
   "metadata": {},
   "outputs": [
    {
     "data": {
      "image/png": "[encoded data removed]",
      "text/plain": [
       "<Figure size 360x360 with 4 Axes>"
      ]
     },
     "metadata": {},
     "output_type": "display_data"
    }
   ],
   "source": [
    "fig, ax = plt.subplots(2, 2)  # 2 rows, 2 columns\n",
    "fig.set_size_inches(5, 5, forward=True)\n",
    "\n",
    "# Original conceptual geomodels\n",
    "ax[0, 0].imshow(concpts_all[0, :, :, 0].astype(np.float32), cmap='gray')\n",
    "ax[0, 0].set_title('Original - Horizontal Section')\n",
    "\n",
    "ax[0, 1].imshow(concpts_all[0, -1, :, :].astype(np.float32).transpose(1, 0), cmap='gray')\n",
    "ax[0, 1].set_title('Original - Vertical Section')\n",
    "\n",
    "# Flipped conceptual geomodels\n",
    "ax[1, 0].imshow(concpts_all[0 + rlz_no, :, :, 0].astype(np.float32), cmap='gray')\n",
    "ax[1, 0].set_title('Flipped - Horizontal Section')\n",
    "\n",
    "ax[1, 1].imshow(concpts_all[0 + rlz_no, -1, :, :].astype(np.float32).transpose(1, 0), cmap='gray')\n",
    "ax[1, 1].set_title('Flipped - Vertical Section')\n",
    "\n",
    "# Optional: Remove axes for a cleaner look\n",
    "for a in ax.flatten():\n",
    "    a.axis('off')\n",
    "\n",
    "plt.tight_layout()\n",
    "plt.show()\n"
   ]
  },
  {
   "cell_type": "markdown",
   "metadata": {},
   "source": [
    "### 3. Randomly crop conceptual geomodels into small patches"
   ]
  },
  {
   "cell_type": "markdown",
   "metadata": {},
   "source": [
    "##### 3.1 Randomly crop patches from each realization"
   ]
  },
  {
   "cell_type": "code",
   "execution_count": 11,
   "metadata": {
    "collapsed": true
   },
   "outputs": [],
   "source": [
    "def rand_crop(faciesmodel, crop_num, crop_x_size, crop_y_size, crop_z_size):\n",
    "    sand_indices = np.argwhere(faciesmodel > 0.9)\n",
    "    crop_indices = np.random.randint(0, sand_indices.shape[0], crop_num)\n",
    "    crop_pt_coos = sand_indices[crop_indices]\n",
    "    [model_x_size, model_y_size, model_z_size] = faciesmodel.shape\n",
    "    facies_crops = np.zeros((crop_num, crop_x, crop_y, crop_z), np.int8)        \n",
    "    for k in range(crop_num):\n",
    "        [pt_x, pt_y, pt_z] = crop_pt_coos[k]        \n",
    "        x_e_dist = model_x_size - 1 - pt_x  # distance between sampled point to the east boundary\n",
    "        y_s_dist = model_y_size - 1 - pt_y\n",
    "        z_b_dist = model_z_size - 1 - pt_z        \n",
    "        if x_e_dist <= crop_x_size - 1:\n",
    "            dx_e = np.random.randint(0, x_e_dist + 1)\n",
    "            crop_x_ed = pt_x + dx_e\n",
    "            crop_x_st = crop_x_ed - crop_x_size\n",
    "        else:\n",
    "            crop_x_st = max(0, pt_x - np.random.randint(0, crop_x_size - 1))\n",
    "            crop_x_ed = crop_x_st + crop_x_size\n",
    "            \n",
    "        if y_s_dist <= crop_y_size - 1:\n",
    "            dy_s = np.random.randint(0, y_s_dist)\n",
    "            crop_y_ed = pt_y + dy_s\n",
    "            crop_y_st = crop_y_ed - crop_y_size\n",
    "        else:\n",
    "            crop_y_st = max(0, pt_y - np.random.randint(0, crop_y_size - 1))\n",
    "            crop_y_ed = crop_y_st + crop_y_size   \n",
    "\n",
    "        if model_z_size >= 2 * crop_z_size:            \n",
    "            if pt_z <= crop_z_size:\n",
    "                crop_z_st = np.random.randint(0, pt_z + 1)\n",
    "                crop_z_ed = crop_z_st + crop_z_size               \n",
    "            elif pt_z <= model_z_size - crop_z_size:\n",
    "                crop_z_st = np.random.randint(pt_z - crop_z_size, pt_z + 1)\n",
    "                crop_z_ed = crop_z_st + crop_z_size                 \n",
    "            else:\n",
    "                crop_z_ed = np.random.randint(pt_z, model_z_size)\n",
    "                crop_z_st = crop_z_ed - crop_z_size\n",
    "        else:\n",
    "            if pt_z <= model_z_size - crop_z_size:\n",
    "                crop_z_st = np.random.randint(0, pt_z + 1)\n",
    "                crop_z_ed = crop_z_st + crop_z_size               \n",
    "            elif pt_z <= crop_z_size:\n",
    "                crop_z_st = np.random.randint(0, model_z_size - crop_z_size + 1)\n",
    "                crop_z_ed = crop_z_st + crop_z_size                 \n",
    "            else:\n",
    "                crop_z_ed = np.random.randint(pt_z, model_z_size)\n",
    "                crop_z_st = crop_z_ed - crop_z_size            \n",
    "\n",
    "        facies_crops[k] = faciesmodel[crop_x_st: crop_x_ed, crop_y_st: crop_y_ed, crop_z_st: crop_z_ed]            \n",
    "    return facies_crops"
   ]
  },
  {
   "cell_type": "code",
   "execution_count": 17,
   "metadata": {
    "scrolled": true
   },
   "outputs": [
    {
     "name": "stdout",
     "output_type": "stream",
     "text": [
      "0\n",
      "1\n",
      "2\n",
      "3\n",
      "4\n",
      "5\n",
      "6\n",
      "7\n",
      "(96, 1, 128, 128, 32)\n"
     ]
    }
   ],
   "source": [
    "crops_for_each_model   = 12           # Number of cropped patches in each conceptual realization\n",
    "crop_x, crop_y, crop_z = 128, 128, 32 # Cell number along x, y, and z direction for each patch\n",
    "\n",
    "facies_crops = np.zeros((rlz_no * 2, crops_for_each_model, crop_x, crop_y, crop_z), np.int8)\n",
    "for i in range(rlz_no * 2):\n",
    "    facies_model_i = concpts_all[i]   # shape of [400, 400, 400]\n",
    "    facies_crops[i] = rand_crop(facies_model_i, crops_for_each_model, crop_x, crop_y, crop_z)    \n",
    "    print(i) \n",
    "\n",
    "facies_crops = facies_crops.reshape(-1, 1, crop_x, crop_y, crop_z)    \n",
    "print(facies_crops.shape)"
   ]
  },
  {
   "cell_type": "code",
   "execution_count": 19,
   "metadata": {},
   "outputs": [
    {
     "data": {
      "text/plain": [
       "<matplotlib.colorbar.Colorbar at 0x7fb9701cdba8>"
      ]
     },
     "execution_count": 19,
     "metadata": {},
     "output_type": "execute_result"
    },
    {
     "data": {
      "image/png": "[encoded data removed]",
      "text/plain": [
       "<Figure size 432x288 with 2 Axes>"
      ]
     },
     "metadata": {},
     "output_type": "display_data"
    }
   ],
   "source": [
    "plt.imshow(facies_crops[3, 0, :,:,15].astype(np.float32))\n",
    "plt.colorbar()"
   ]
  },
  {
   "cell_type": "markdown",
   "metadata": {},
   "source": [
    "##### 3.2 Removing patches containing mostly background mud facies"
   ]
  },
  {
   "cell_type": "code",
   "execution_count": 22,
   "metadata": {
    "scrolled": true
   },
   "outputs": [],
   "source": [
    "facies_crops_num = facies_crops.shape[0]\n",
    "ch_props = np.zeros((facies_crops_num, ), np.float32)\n",
    "lob_props = np.zeros((facies_crops_num, ), np.float32)\n",
    "ch_props = np.mean(np.where(facies_crops==1, 1, 0), axis = (1, 2, 3, 4))\n",
    "lob_props = np.mean(np.where(facies_crops==2, 1, 0), axis = (1, 2, 3, 4))\n",
    "mud_props = 1 - ch_props - lob_props\n",
    "\n",
    "# Check how many crops have only channels, how many have only lobes, and how many have both\n",
    "# 1 for only channels, 2 for only lobes, and 3 for both\n",
    "pattern_type = np.zeros((facies_crops.shape[0]), np.int8) \n",
    "for i in range(pattern_type.shape[0]):\n",
    "    if (ch_props[i] > 0.1) and (lob_props[i] > 0.1):\n",
    "        pattern_type[i] = 3\n",
    "    elif (ch_props[i] > 0.1) and (lob_props[i] < 0.1):\n",
    "        pattern_type[i] = 1\n",
    "    elif (ch_props[i] < 0.1) and (lob_props[i] > 0.1):\n",
    "        pattern_type[i] = 2"
   ]
  },
  {
   "cell_type": "code",
   "execution_count": 23,
   "metadata": {},
   "outputs": [
    {
     "data": {
      "text/plain": [
       "(array([ 8.,  0.,  0., 20.,  0.,  0., 27.,  0.,  0., 41.]),\n",
       " array([0. , 0.3, 0.6, 0.9, 1.2, 1.5, 1.8, 2.1, 2.4, 2.7, 3. ]),\n",
       " <a list of 10 Patch objects>)"
      ]
     },
     "execution_count": 23,
     "metadata": {},
     "output_type": "execute_result"
    },
    {
     "data": {
      "image/png": "[encoded data removed]",
      "text/plain": [
       "<Figure size 432x288 with 1 Axes>"
      ]
     },
     "metadata": {},
     "output_type": "display_data"
    }
   ],
   "source": [
    "plt.hist(pattern_type)"
   ]
  },
  {
   "cell_type": "code",
   "execution_count": 24,
   "metadata": {},
   "outputs": [
    {
     "name": "stdout",
     "output_type": "stream",
     "text": [
      "76\n"
     ]
    }
   ],
   "source": [
    "keep_index = []\n",
    "for i in range(pattern_type.shape[0]):\n",
    "    if (pattern_type[i] == 1) or (pattern_type[i] == 3):\n",
    "        keep_index.append(i)\n",
    "    elif pattern_type[i] == 2:\n",
    "        if np.random.uniform(low=0.0, high=1.0, size=None) < 0.4: keep_index.append(i)\n",
    "print(len(keep_index))"
   ]
  },
  {
   "cell_type": "code",
   "execution_count": 25,
   "metadata": {},
   "outputs": [
    {
     "data": {
      "text/plain": [
       "(array([20.,  0.,  0.,  0.,  0., 15.,  0.,  0.,  0., 41.]),\n",
       " array([1. , 1.2, 1.4, 1.6, 1.8, 2. , 2.2, 2.4, 2.6, 2.8, 3. ]),\n",
       " <a list of 10 Patch objects>)"
      ]
     },
     "execution_count": 25,
     "metadata": {},
     "output_type": "execute_result"
    },
    {
     "data": {
      "image/png": "[encoded data removed]",
      "text/plain": [
       "<Figure size 432x288 with 1 Axes>"
      ]
     },
     "metadata": {},
     "output_type": "display_data"
    }
   ],
   "source": [
    "plt.hist(pattern_type[keep_index])"
   ]
  },
  {
   "cell_type": "code",
   "execution_count": 26,
   "metadata": {},
   "outputs": [
    {
     "name": "stdout",
     "output_type": "stream",
     "text": [
      "(76, 1, 128, 128, 32)\n"
     ]
    }
   ],
   "source": [
    "facies_crops = facies_crops[keep_index]\n",
    "# randomly permute facies_crops:\n",
    "random_seq=np.random.RandomState(232).permutation(facies_crops.shape[0])\n",
    "facies_crops = facies_crops[random_seq]\n",
    "\n",
    "print(facies_crops.shape)"
   ]
  },
  {
   "cell_type": "markdown",
   "metadata": {},
   "source": [
    "### 4. Generate training well facies for each patch"
   ]
  },
  {
   "cell_type": "code",
   "execution_count": 28,
   "metadata": {},
   "outputs": [
    {
     "name": "stdout",
     "output_type": "stream",
     "text": [
      "(76, 1, 128, 128, 32)\n"
     ]
    }
   ],
   "source": [
    "well_points = np.zeros(facies_crops.shape, dtype = np.int8)\n",
    "for i in range(facies_crops.shape[0]):\n",
    "    well_points_num = np.random.choice(np.arange(1, 10), 1)  # Random choose the expected total number of well points\n",
    "    xs = np.random.choice(128, well_points_num)\n",
    "    ys = np.random.choice(128, well_points_num)\n",
    "   # zs = np.random.choice(32, well_points_num)\n",
    "    well_points[i, 0, xs, ys, :] = 1\n",
    "\n",
    "well_facies = facies_crops * well_points + well_points\n",
    "print(well_facies.shape)"
   ]
  },
  {
   "cell_type": "code",
   "execution_count": 29,
   "metadata": {},
   "outputs": [
    {
     "data": {
      "text/plain": [
       "<matplotlib.colorbar.Colorbar at 0x7fb970f13668>"
      ]
     },
     "execution_count": 29,
     "metadata": {},
     "output_type": "execute_result"
    },
    {
     "data": {
      "image/png": "[encoded data removed]",
      "text/plain": [
       "<Figure size 432x288 with 2 Axes>"
      ]
     },
     "metadata": {},
     "output_type": "display_data"
    }
   ],
   "source": [
    "plt.imshow(well_facies[14, 0,:,:,25])\n",
    "plt.colorbar()"
   ]
  },
  {
   "cell_type": "code",
   "execution_count": 30,
   "metadata": {},
   "outputs": [
    {
     "data": {
      "text/plain": [
       "(array([6453.,    0.,    0., 2939.,    0.,    0., 2512.,    0.,    0.,\n",
       "           0.]),\n",
       " array([1. , 1.3, 1.6, 1.9, 2.2, 2.5, 2.8, 3.1, 3.4, 3.7, 4. ]),\n",
       " <a list of 10 Patch objects>)"
      ]
     },
     "execution_count": 30,
     "metadata": {},
     "output_type": "execute_result"
    },
    {
     "data": {
      "image/png": "[encoded data removed]",
      "text/plain": [
       "<Figure size 432x288 with 1 Axes>"
      ]
     },
     "metadata": {},
     "output_type": "display_data"
    }
   ],
   "source": [
    "plt.hist(well_facies.reshape(-1), range = (1, 4))"
   ]
  },
  {
   "cell_type": "markdown",
   "metadata": {},
   "source": [
    "### 5. Generate training probability cubes for each patch"
   ]
  },
  {
   "cell_type": "markdown",
   "metadata": {},
   "source": [
    "##### 5.1 Create facies indicator cubes"
   ]
  },
  {
   "cell_type": "code",
   "execution_count": 32,
   "metadata": {
    "scrolled": true
   },
   "outputs": [],
   "source": [
    "facies_crops_indc_ch = np.where(facies_crops == 1, 1, 0).astype(np.int8)\n",
    "facies_crops_indc_lobe = np.where(facies_crops == 2, 1, 0).astype(np.int8)\n"
   ]
  },
  {
   "cell_type": "code",
   "execution_count": 54,
   "metadata": {},
   "outputs": [
    {
     "data": {
      "image/png": "[encoded data removed]",
      "text/plain": [
       "<Figure size 432x216 with 4 Axes>"
      ]
     },
     "metadata": {},
     "output_type": "display_data"
    }
   ],
   "source": [
    "fig, ax = plt.subplots(1, 2)\n",
    "fig.set_size_inches(6, 3, forward=True)\n",
    "\n",
    "# Channel facies indicator\n",
    "im0 = ax[0].imshow(facies_crops_indc_ch[22, 0, :, :, 6])\n",
    "ax[0].set_title('Channel Facies Indicator')\n",
    "fig.colorbar(im0, ax=ax[0])\n",
    "\n",
    "# Lobe facies indicator\n",
    "im1 = ax[1].imshow(facies_crops_indc_lobe[22, 0, :, :, 6])\n",
    "ax[1].set_title('Lobe Facies Indicator')\n",
    "fig.colorbar(im1, ax=ax[1])\n",
    "\n",
    "plt.tight_layout()\n",
    "plt.show()\n"
   ]
  },
  {
   "cell_type": "markdown",
   "metadata": {},
   "source": [
    "##### 5.2 Calculate probability cubes from indicator cubes "
   ]
  },
  {
   "cell_type": "markdown",
   "metadata": {},
   "source": [
    "##### (1) Add noises to indicator cubes"
   ]
  },
  {
   "cell_type": "code",
   "execution_count": 36,
   "metadata": {
    "collapsed": true
   },
   "outputs": [],
   "source": [
    "def noise(cube, max_noise_size):\n",
    "    cube_noise = np.zeros(cube.shape)\n",
    "    # (1) add noise within the facies of indicator = 1 \n",
    "    noise_num_max = np.round(np.sum(cube)/400)\n",
    "    if noise_num_max>0:       \n",
    "        ind_indices = np.argwhere(cube>=0.9)\n",
    "        noise_num = np.random.randint(0, noise_num_max)\n",
    "        noise_indices = np.random.randint(0, ind_indices.shape[0], noise_num)    \n",
    "        noise_coos = ind_indices[noise_indices]\n",
    "        noise_sizes = np.random.randint(2, max_noise_size, noise_num)  \n",
    "        noise_values = np.random.uniform(-3., 1.5, noise_num)\n",
    "        for i in range(noise_num):\n",
    "            noise_coo_i_x = noise_coos[i, 0]\n",
    "            noise_coo_i_y = noise_coos[i, 1]\n",
    "            noise_coo_i_z = noise_coos[i, 2]\n",
    "            noise_size_i = noise_sizes[i]\n",
    "            noise_value_i = noise_values[i]\n",
    "            cube_noise[noise_coo_i_x:min(128, noise_coo_i_x + noise_size_i), noise_coo_i_y:min(128, noise_coo_i_y + noise_size_i), noise_coo_i_z:min(32, noise_coo_i_z + noise_size_i)]=noise_value_i\n",
    "   \n",
    "    # (2) add noise within the facies of indicator = 0\n",
    "    noise_num_max = np.round((128*128*32 - np.sum(cube))/400)\n",
    "    if noise_num_max>0:\n",
    "        ind_indices = np.argwhere(cube<=0.1)\n",
    "        noise_num = np.random.randint(0, noise_num_max)\n",
    "        noise_indices = np.random.randint(0, ind_indices.shape[0], noise_num)    \n",
    "        noise_coos = ind_indices[noise_indices]\n",
    "        noise_sizes = np.random.randint(2, max_noise_size, noise_num)  \n",
    "        noise_values = np.random.uniform(0., 3., noise_num)\n",
    "        for i in range(noise_num):\n",
    "            noise_coo_i_x = noise_coos[i, 0]\n",
    "            noise_coo_i_y = noise_coos[i, 1]\n",
    "            noise_coo_i_z = noise_coos[i, 2]\n",
    "            noise_size_i = noise_sizes[i]\n",
    "            noise_value_i = noise_values[i]\n",
    "            cube_noise[noise_coo_i_x:min(128, noise_coo_i_x + noise_size_i), noise_coo_i_y:min(128, noise_coo_i_y + noise_size_i), noise_coo_i_z:min(32, noise_coo_i_z + noise_size_i)]=noise_value_i\n",
    "    return cube_noise"
   ]
  },
  {
   "cell_type": "markdown",
   "metadata": {},
   "source": [
    "##### (2) Smooth indicator cubes to obtain probability cubes (mimicking geophysics-interpreted facies probability cubes)"
   ]
  },
  {
   "cell_type": "code",
   "execution_count": 37,
   "metadata": {
    "scrolled": true
   },
   "outputs": [
    {
     "name": "stdout",
     "output_type": "stream",
     "text": [
      "0\n"
     ]
    }
   ],
   "source": [
    "# Using Gaussian kernels with various size to smooth indicator cubes to form the probability cubes with various blurriness. \n",
    "\n",
    "from scipy import ndimage\n",
    "\n",
    "prob_rlzs = np.zeros((facies_crops.shape[0], 2, 128, 128, 32), dtype=np.float16)\n",
    "for num in range(facies_crops.shape[0]):  \n",
    "    if num % 100 == 0:\n",
    "        print(num)  \n",
    "    k = np.random.choice([3., 5., 7., 9.])\n",
    "    cur_indc_ch = facies_crops_indc_ch[num, 0].astype(np.float32)\n",
    "    cur_indc_lobe = facies_crops_indc_lobe[num, 0].astype(np.float32)\n",
    "    cur_indc_ch_noise = noise(cur_indc_ch, min(6., k*5))\n",
    "    cur_indc_lobe_noise = noise(cur_indc_lobe, min(6., k*5))    \n",
    "    cur_noise_prob_ch = ndimage.gaussian_filter(cur_indc_ch_noise, sigma = (k, k, 4*k), mode = 'reflect')\n",
    "    cur_noise_prob_lobe = ndimage.gaussian_filter(cur_indc_lobe_noise, sigma = (k, k, 4*k), mode = 'reflect') \n",
    "    prob_ch_without_noise = ndimage.gaussian_filter(cur_indc_ch, sigma = (k, k, 4*k), mode = 'reflect') \n",
    "    prob_lobe_without_noise = ndimage.gaussian_filter(cur_indc_lobe, (k, k, 4*k), mode = 'reflect') \n",
    "    prob_ch = prob_ch_without_noise + cur_noise_prob_ch\n",
    "    prob_lobe = prob_lobe_without_noise + cur_noise_prob_lobe \n",
    "\n",
    "    prob_sum = prob_ch + prob_lobe  \n",
    "    prob_sum_max = np.amax(prob_sum, axis = (0,1,2))\n",
    "    if prob_sum_max<0.25:  # amplify the prob range beyond (0-0.25)\n",
    "        prob_mx = np.random.rand(1)*0.45+0.25\n",
    "        prob_ch = prob_ch * prob_mx / prob_sum_max   \n",
    "        prob_lobe = prob_lobe * prob_mx / prob_sum_max    \n",
    "    \n",
    "    if prob_sum_max>0.9: \n",
    "        prob_ch = prob_ch / prob_sum_max * 0.9\n",
    "        prob_lobe = prob_lobe / prob_sum_max * 0.9\n",
    "    \n",
    "    prob_rlzs[num, 0] = prob_ch \n",
    "    prob_rlzs[num, 1] = prob_lobe    \n",
    "    prob_rlzs[num] = np.where(prob_rlzs[num]<0.02, 0.02, prob_rlzs[num]) "
   ]
  },
  {
   "cell_type": "code",
   "execution_count": 56,
   "metadata": {
    "scrolled": false
   },
   "outputs": [
    {
     "data": {
      "image/png": "[encoded data removed]",
      "text/plain": [
       "<Figure size 432x432 with 8 Axes>"
      ]
     },
     "metadata": {},
     "output_type": "display_data"
    }
   ],
   "source": [
    "fig, ax = plt.subplots(2, 2)\n",
    "fig.set_size_inches(6, 6, forward=True)\n",
    "\n",
    "# Top-left: Channel Facies Indicator\n",
    "im0 = ax[0, 0].imshow(facies_crops_indc_ch[22, 0, :, :, 11])\n",
    "ax[0, 0].set_title('Channel Facies Indicator')\n",
    "fig.colorbar(im0, ax=ax[0, 0])\n",
    "\n",
    "# Top-right: Channel Probability Realization\n",
    "im1 = ax[0, 1].imshow(prob_rlzs[22, 0, :, :, 11].astype(np.float32))\n",
    "ax[0, 1].set_title('Channel Probability Realization')\n",
    "fig.colorbar(im1, ax=ax[0, 1])\n",
    "\n",
    "# Bottom-left: Lobe Facies Indicator\n",
    "im2 = ax[1, 0].imshow(facies_crops_indc_lobe[22, 0, :, :, 30])\n",
    "ax[1, 0].set_title('Lobe Facies Indicator')\n",
    "fig.colorbar(im2, ax=ax[1, 0])\n",
    "\n",
    "# Bottom-right: Lobe Probability Realization\n",
    "im3 = ax[1, 1].imshow(prob_rlzs[22, 1, :, :, 30].astype(np.float32))\n",
    "ax[1, 1].set_title('Lobe Probability Realization')\n",
    "fig.colorbar(im3, ax=ax[1, 1])\n",
    "\n",
    "plt.tight_layout()\n",
    "plt.show()\n"
   ]
  },
  {
   "cell_type": "markdown",
   "metadata": {},
   "source": [
    "### 6. Downsample and save training datasets"
   ]
  },
  {
   "cell_type": "markdown",
   "metadata": {},
   "source": [
    "##### Save directory"
   ]
  },
  {
   "cell_type": "code",
   "execution_count": 65,
   "metadata": {
    "collapsed": true
   },
   "outputs": [],
   "source": [
    "\n",
    "tfrecord_dir_training = '/scratch/users/suihong/GANSimData/TrainingData'"
   ]
  },
  {
   "cell_type": "markdown",
   "metadata": {
    "collapsed": true
   },
   "source": [
    "##### Downsample and save"
   ]
  },
  {
   "cell_type": "code",
   "execution_count": 66,
   "metadata": {
    "collapsed": true
   },
   "outputs": [],
   "source": [
    "import tensorflow.compat.v1 as tf\n",
    "from scipy import stats\n",
    "class TFRecordExporter:\n",
    "    def __init__(self, tfrecord_dir, expected_cubes, print_progress=True, progress_interval=10):\n",
    "        self.tfrecord_dir       = tfrecord_dir\n",
    "        self.tfr_prefix         = os.path.join(self.tfrecord_dir, os.path.basename(self.tfrecord_dir))\n",
    "        self.expected_cubes    = expected_cubes\n",
    "        self.cur_cubes         = 0\n",
    "        self.shape              = None\n",
    "        self.max_res_log2      = None\n",
    "        self.tfr_writers        = []\n",
    "        self.print_progress     = print_progress\n",
    "        self.progress_interval  = progress_interval\n",
    "        if self.print_progress:\n",
    "            print('Creating dataset \"%s\"' % tfrecord_dir)\n",
    "        if not os.path.isdir(self.tfrecord_dir):\n",
    "            os.makedirs(self.tfrecord_dir)\n",
    "        assert(os.path.isdir(self.tfrecord_dir))\n",
    "        \n",
    "    def close(self):\n",
    "        if self.print_progress:\n",
    "            print('%-40s\\r' % 'Flushing data...', end='', flush=True)\n",
    "        for tfr_writer in self.tfr_writers:\n",
    "            tfr_writer.close()\n",
    "        self.tfr_writers = []\n",
    "        if self.print_progress:\n",
    "            print('%-40s\\r' % '', end='', flush=True)\n",
    "            print('Added %d cubes.' % self.cur_cubes)\n",
    "\n",
    "    def choose_shuffled_order(self): # Note: Cubes and labels must be added in shuffled order.\n",
    "        order = np.arange(self.expected_cubes)\n",
    "        np.random.RandomState(123).shuffle(order)\n",
    "        return order\n",
    "         \n",
    "    def add_real_cube(self, real_cube):\n",
    "        def downscale_factor(cube):\n",
    "            cube_dim = cube.shape[1:]\n",
    "            cube_dim_log2 = np.log2(cube_dim).astype(int)\n",
    "            cube_dim_log2_dist = cube_dim_log2 - np.array([2, 2, 2])\n",
    "            down_factor = np.where(cube_dim_log2_dist > 0, 2, 1)\n",
    "            return down_factor\n",
    "    \n",
    "        if self.print_progress and self.cur_cubes % self.progress_interval == 0:\n",
    "            print('%d / %d\\r' % (self.cur_cubes, self.expected_cubes), end='', flush=True)\n",
    "        if self.shape is None:\n",
    "            self.shape = real_cube.shape   # [1, 64, 64, 64]\n",
    "            self.max_res_log2  = max(np.log2(self.shape[1:]).astype(int))  # 6\n",
    "            tfr_opt = tf.python_io.TFRecordOptions(tf.python_io.TFRecordCompressionType.NONE)\n",
    "            for lod in range(self.max_res_log2 - 1):\n",
    "                tfr_file = self.tfr_prefix + '-1r%02d.tfrecords' % (self.max_res_log2 - lod)\n",
    "                self.tfr_writers.append(tf.python_io.TFRecordWriter(tfr_file, tfr_opt))\n",
    "            self.tfr_writers.append(tf.python_io.TFRecordWriter(tfr_file, tfr_opt))\n",
    "        assert real_cube.shape == self.shape\n",
    "        \n",
    "        for lod, tfr_writer in enumerate(self.tfr_writers[:-1]):\n",
    "            if lod:\n",
    "                real_cube = real_cube.astype(np.float32)\n",
    "                # used to produce low-D with averaging method                \n",
    "                dwscl_factor = downscale_factor(real_cube)\n",
    "                fac_x, fac_y, fac_z = dwscl_factor                \n",
    "                # used to produce low-D with method （once channel exist, it remain channel; otherwise, keep lobes if lobes exist）\n",
    "                # facies remain order: channel (code 1), lobes (code 2), mud (code 0)\n",
    "                # convert code 1 into 9 for channels, for easy frequency computation. Remember to convert back finally.\n",
    "                real_cube = np.where(real_cube == 1, 9, real_cube)\n",
    "                real_cube = np.expand_dims(real_cube, axis = -1)    \n",
    "                # Mind where fac_z = 1\n",
    "                real_cube = np.concatenate((real_cube[:, 0::fac_x, 0::fac_y, 0::fac_z], real_cube[:, 0::fac_x, fac_y - 1::fac_y, 0::fac_z], \\\n",
    "                                            real_cube[:, fac_x - 1::fac_x, 0::fac_y, 0::fac_z], real_cube[:, fac_x - 1::fac_x, fac_y - 1::fac_y, 0::fac_z], \\\n",
    "                                            real_cube[:, 0::fac_x, 0::fac_y, fac_z - 1::fac_z], real_cube[:, 0::fac_x, fac_y - 1::fac_y, fac_z - 1::fac_z], \\\n",
    "                                            real_cube[:, fac_x - 1::fac_x, 0::fac_y, fac_z - 1::fac_z], \\\n",
    "                                            real_cube[:, fac_x - 1::fac_x, fac_y - 1::fac_y, fac_z - 1::fac_z]), axis = -1)\n",
    "                real_cube = np.max(real_cube, axis = -1)\n",
    "                real_cube = np.where(real_cube == 9, 1, real_cube)                  \n",
    "            quant = np.rint(real_cube).clip(0, 2).astype(np.uint8)\n",
    "            ex = tf.train.Example(features=tf.train.Features(feature={\n",
    "                'shape': tf.train.Feature(int64_list=tf.train.Int64List(value=quant.shape)),\n",
    "                'data': tf.train.Feature(bytes_list=tf.train.BytesList(value=[quant.tostring()]))}))\n",
    "            tfr_writer.write(ex.SerializeToString())\n",
    "        self.cur_cubes += 1            \n",
    "\n",
    "    def add_labels(self, labels):\n",
    "        if self.print_progress:\n",
    "            print('%-40s\\r' % 'Saving labels...', end='', flush=True)\n",
    "        #assert labels.shape[0] == self.cur_cubes\n",
    "        with open(self.tfr_prefix + '-4rxx.labels', 'wb') as f:\n",
    "            np.save(f, labels.astype(np.float32))\n",
    "\n",
    "    def add_prob_cube(self, prob_cube):\n",
    "        if self.print_progress and self.cur_cubes % self.progress_interval == 0:\n",
    "            print('%d / %d\\r' % (self.cur_cubes, self.expected_cubes), end='', flush=True)\n",
    "        if self.shape is None:\n",
    "            self.shape = prob_cube.shape\n",
    "            tfr_opt = tf.python_io.TFRecordOptions(tf.python_io.TFRecordCompressionType.NONE)\n",
    "            # add probcubes writer into self.tfr_writers    \n",
    "            tfr_file = self.tfr_prefix + '-2probcubes.tfrecords' \n",
    "            self.tfr_writers.append(tf.python_io.TFRecordWriter(tfr_file, tfr_opt))\n",
    "        # Writting prob_cube into tfrecord file\n",
    "        quant = prob_cube.clip(0, 1).astype(np.float16)\n",
    "        ex = tf.train.Example(features=tf.train.Features(feature={\n",
    "            'shape': tf.train.Feature(int64_list=tf.train.Int64List(value=quant.shape)),\n",
    "            'data': tf.train.Feature(bytes_list=tf.train.BytesList(value=[quant.tostring()]))}))\n",
    "        self.tfr_writers[0].write(ex.SerializeToString())\n",
    "        self.cur_cubes += 1   \n",
    "        \n",
    "    def add_well_facies(self, well_facies):\n",
    "        if self.print_progress and self.cur_cubes % self.progress_interval == 0:\n",
    "            print('%d / %d\\r' % (self.cur_cubes, self.expected_cubes), end='', flush=True)\n",
    "        if self.shape is None:\n",
    "            self.shape = well_facies.shape\n",
    "            tfr_opt = tf.python_io.TFRecordOptions(tf.python_io.TFRecordCompressionType.NONE)\n",
    "            # add well_facies writer into self.tfr_writers    \n",
    "            tfr_file = self.tfr_prefix + '-3wellfacies.tfrecords' \n",
    "            self.tfr_writers.append(tf.python_io.TFRecordWriter(tfr_file, tfr_opt))\n",
    "        # Writting well_facies into tfrecord file\n",
    "        quant = well_facies.astype(np.uint8)\n",
    "        ex = tf.train.Example(features=tf.train.Features(feature={\n",
    "            'shape': tf.train.Feature(int64_list=tf.train.Int64List(value=quant.shape)),\n",
    "            'data': tf.train.Feature(bytes_list=tf.train.BytesList(value=[quant.tostring()]))}))\n",
    "        self.tfr_writers[0].write(ex.SerializeToString())\n",
    "        self.cur_cubes += 1   \n",
    "        \n",
    "    def __enter__(self):\n",
    "        return self\n",
    "    \n",
    "    def __exit__(self, *args):\n",
    "        self.close()"
   ]
  },
  {
   "cell_type": "code",
   "execution_count": 67,
   "metadata": {
    "collapsed": true
   },
   "outputs": [],
   "source": [
    "# We don't consider lables in this case, thus generate one\n",
    "\n",
    "labels = np.zeros((facies_crops.shape[0], 1)) "
   ]
  },
  {
   "cell_type": "code",
   "execution_count": 68,
   "metadata": {},
   "outputs": [
    {
     "name": "stdout",
     "output_type": "stream",
     "text": [
      "Creating dataset \"/scratch/users/suihong/GANSimData/TrainingData\"\n",
      "Added 76 cubes.                         \n"
     ]
    }
   ],
   "source": [
    "with TFRecordExporter(tfrecord_dir_training, facies_crops.shape[0]) as tfr:\n",
    "    order = tfr.choose_shuffled_order()\n",
    "    for idx in range(order.size):\n",
    "        tfr.add_real_cube(facies_crops[order[idx]]) \n",
    "    tfr.add_labels(labels[order])   "
   ]
  },
  {
   "cell_type": "code",
   "execution_count": 69,
   "metadata": {},
   "outputs": [
    {
     "name": "stdout",
     "output_type": "stream",
     "text": [
      "Creating dataset \"/scratch/users/suihong/GANSimData/TrainingData\"\n",
      "Added 76 cubes.                         \n"
     ]
    }
   ],
   "source": [
    "with TFRecordExporter(tfrecord_dir_training, well_facies.shape[0]) as tfr:\n",
    "    for idx in range(well_facies.shape[0]):\n",
    "        tfr.add_well_facies(well_facies[idx])      "
   ]
  },
  {
   "cell_type": "code",
   "execution_count": 70,
   "metadata": {},
   "outputs": [
    {
     "name": "stdout",
     "output_type": "stream",
     "text": [
      "Creating dataset \"/scratch/users/suihong/GANSimData/TrainingData\"\n",
      "Added 76 cubes.                         \n"
     ]
    }
   ],
   "source": [
    "with TFRecordExporter(tfrecord_dir_training, prob_rlzs.shape[0]) as tfr:\n",
    "    for idx in range(prob_rlzs.shape[0]):\n",
    "        tfr.add_prob_cube(prob_rlzs[idx])      "
   ]
  },
  {
   "cell_type": "code",
   "execution_count": null,
   "metadata": {
    "collapsed": true
   },
   "outputs": [],
   "source": []
  }
 ],
 "metadata": {
  "kernelspec": {
   "display_name": "Python 3",
   "language": "python",
   "name": "python3"
  },
  "language_info": {
   "codemirror_mode": {
    "name": "ipython",
    "version": 3
   },
   "file_extension": ".py",
   "mimetype": "text/x-python",
   "name": "python",
   "nbconvert_exporter": "python",
   "pygments_lexer": "ipython3",
   "version": "3.6.1"
  }
 },
 "nbformat": 4,
 "nbformat_minor": 2
}
